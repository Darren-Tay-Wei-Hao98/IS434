{
 "cells": [
  {
   "cell_type": "markdown",
   "id": "18ddbdfe",
   "metadata": {},
   "source": [
    "tweepy\n",
    "\n",
    "Official documentation: https://docs.tweepy.org/en/stable/\n",
    "\n",
    "Ref: https://dev.to/twitterdev/a-comprehensive-guide-for-using-the-twitter-api-v2-using-tweepy-in-python-15d9"
   ]
  },
  {
   "cell_type": "code",
   "execution_count": 1,
   "id": "1861c207",
   "metadata": {},
   "outputs": [],
   "source": [
    "import tweepy\n",
    "import datetime\n",
    "import pandas as pd\n",
    "import json\n",
    "import requests"
   ]
  },
  {
   "cell_type": "code",
   "execution_count": 2,
   "id": "5ae6445d",
   "metadata": {},
   "outputs": [],
   "source": [
    "# Update this variable with YOUR OWN Twitter Bearer Token\n",
    "BEARER_TOKEN = 'AAAAAAAAAAAAAAAAAAAAACfRYQEAAAAAhOFUrnJ5amg%2F8CCEYhNjl4B7wNM%3D491seRB6MzaDeUgmxQOzJqxvDy2VDaT2Tzs8lNPlB2zImNtFww'\n",
    "\n",
    "client = tweepy.Client(bearer_token=BEARER_TOKEN, return_type=requests.Response)"
   ]
  },
  {
   "cell_type": "code",
   "execution_count": 4,
   "id": "4863b02b",
   "metadata": {},
   "outputs": [],
   "source": [
    "'''\n",
    "Searching for Tweets from the last 7 days\n",
    "\n",
    "We can use the search_recent_tweets function available in Tweepy.\n",
    "You will have to pass it a search query to specify the data that you are looking for.\n",
    "\n",
    "Below, we will search for for Tweets from the last days from the \n",
    "Twitter handle realDonaldTrump and we are excluding retweets using -is:retweet.\n",
    "\n",
    "By default, a request returns 10 Tweets.\n",
    "If you want more than 10 Tweets per request, you can specify that using the max_results parameter.\n",
    "The maximum Tweets per request is 100.\n",
    "'''\n",
    "# Replace with your own search query\n",
    "handle = 'KimKardashian'\n",
    "query = 'from:' + handle + ' -is:retweet'\n",
    "\n",
    "tweets1 = client.search_recent_tweets(\n",
    "            query=query,\n",
    "            tweet_fields=['context_annotations', 'created_at'],\n",
    "            max_results=100)"
   ]
  },
  {
   "cell_type": "code",
   "execution_count": 5,
   "id": "5b74f888",
   "metadata": {},
   "outputs": [
    {
     "data": {
      "text/html": [
       "<div>\n",
       "<style scoped>\n",
       "    .dataframe tbody tr th:only-of-type {\n",
       "        vertical-align: middle;\n",
       "    }\n",
       "\n",
       "    .dataframe tbody tr th {\n",
       "        vertical-align: top;\n",
       "    }\n",
       "\n",
       "    .dataframe thead th {\n",
       "        text-align: right;\n",
       "    }\n",
       "</style>\n",
       "<table border=\"1\" class=\"dataframe\">\n",
       "  <thead>\n",
       "    <tr style=\"text-align: right;\">\n",
       "      <th></th>\n",
       "      <th>created_at</th>\n",
       "      <th>id</th>\n",
       "      <th>context_annotations</th>\n",
       "      <th>text</th>\n",
       "    </tr>\n",
       "  </thead>\n",
       "  <tbody>\n",
       "    <tr>\n",
       "      <th>0</th>\n",
       "      <td>2022-01-21T18:29:10.000Z</td>\n",
       "      <td>1484593931157336065</td>\n",
       "      <td>[{'domain': {'id': '10', 'name': 'Person', 'de...</td>\n",
       "      <td>Just added new items to my #KardashianKloset h...</td>\n",
       "    </tr>\n",
       "    <tr>\n",
       "      <th>1</th>\n",
       "      <td>2022-01-21T16:50:04.000Z</td>\n",
       "      <td>1484568994463895552</td>\n",
       "      <td>[{'domain': {'id': '10', 'name': 'Person', 'de...</td>\n",
       "      <td>Always ✌🏼💗 https://t.co/w3KBqX7RbW</td>\n",
       "    </tr>\n",
       "    <tr>\n",
       "      <th>2</th>\n",
       "      <td>2022-01-20T22:11:34.000Z</td>\n",
       "      <td>1484287511341899776</td>\n",
       "      <td>[{'domain': {'id': '10', 'name': 'Person', 'de...</td>\n",
       "      <td>Just dropped NEW @skims Outdoor! Shop now at h...</td>\n",
       "    </tr>\n",
       "    <tr>\n",
       "      <th>3</th>\n",
       "      <td>2022-01-19T20:02:02.000Z</td>\n",
       "      <td>1483892525014282243</td>\n",
       "      <td>[{'domain': {'id': '10', 'name': 'Person', 'de...</td>\n",
       "      <td>You can expect a wide range of scent notes fro...</td>\n",
       "    </tr>\n",
       "    <tr>\n",
       "      <th>4</th>\n",
       "      <td>2022-01-19T20:00:58.000Z</td>\n",
       "      <td>1483892260605349888</td>\n",
       "      <td>[{'domain': {'id': '10', 'name': 'Person', 'de...</td>\n",
       "      <td>Coming Soon: Jeff Leatham II by @KKWFragrance....</td>\n",
       "    </tr>\n",
       "    <tr>\n",
       "      <th>5</th>\n",
       "      <td>2022-01-19T13:47:50.000Z</td>\n",
       "      <td>1483798357633945602</td>\n",
       "      <td>[{'domain': {'id': '10', 'name': 'Person', 'de...</td>\n",
       "      <td>Beach 🅿️arty https://t.co/0rlc0wo7iE</td>\n",
       "    </tr>\n",
       "    <tr>\n",
       "      <th>6</th>\n",
       "      <td>2022-01-17T19:45:04.000Z</td>\n",
       "      <td>1483163481947922442</td>\n",
       "      <td>[{'domain': {'id': '10', 'name': 'Person', 'de...</td>\n",
       "      <td>Mother Nature 🧜🏻‍♀️ https://t.co/kufiSWM2Dm</td>\n",
       "    </tr>\n",
       "  </tbody>\n",
       "</table>\n",
       "</div>"
      ],
      "text/plain": [
       "                 created_at                   id  \\\n",
       "0  2022-01-21T18:29:10.000Z  1484593931157336065   \n",
       "1  2022-01-21T16:50:04.000Z  1484568994463895552   \n",
       "2  2022-01-20T22:11:34.000Z  1484287511341899776   \n",
       "3  2022-01-19T20:02:02.000Z  1483892525014282243   \n",
       "4  2022-01-19T20:00:58.000Z  1483892260605349888   \n",
       "5  2022-01-19T13:47:50.000Z  1483798357633945602   \n",
       "6  2022-01-17T19:45:04.000Z  1483163481947922442   \n",
       "\n",
       "                                 context_annotations  \\\n",
       "0  [{'domain': {'id': '10', 'name': 'Person', 'de...   \n",
       "1  [{'domain': {'id': '10', 'name': 'Person', 'de...   \n",
       "2  [{'domain': {'id': '10', 'name': 'Person', 'de...   \n",
       "3  [{'domain': {'id': '10', 'name': 'Person', 'de...   \n",
       "4  [{'domain': {'id': '10', 'name': 'Person', 'de...   \n",
       "5  [{'domain': {'id': '10', 'name': 'Person', 'de...   \n",
       "6  [{'domain': {'id': '10', 'name': 'Person', 'de...   \n",
       "\n",
       "                                                text  \n",
       "0  Just added new items to my #KardashianKloset h...  \n",
       "1                 Always ✌🏼💗 https://t.co/w3KBqX7RbW  \n",
       "2  Just dropped NEW @skims Outdoor! Shop now at h...  \n",
       "3  You can expect a wide range of scent notes fro...  \n",
       "4  Coming Soon: Jeff Leatham II by @KKWFragrance....  \n",
       "5               Beach 🅿️arty https://t.co/0rlc0wo7iE  \n",
       "6        Mother Nature 🧜🏻‍♀️ https://t.co/kufiSWM2Dm  "
      ]
     },
     "execution_count": 5,
     "metadata": {},
     "output_type": "execute_result"
    }
   ],
   "source": [
    "'''\n",
    "Convert to pandas Dataframe\n",
    "'''\n",
    "\n",
    "# Save data as dictionary\n",
    "tweets_dict1 = tweets1.json()\n",
    "\n",
    "# Extract \"data\" value from dictionary\n",
    "tweets_data1 = tweets_dict1['data'] \n",
    "\n",
    "# Transform to pandas Dataframe\n",
    "df1 = pd.json_normalize(tweets_data1)\n",
    "\n",
    "df1"
   ]
  },
  {
   "cell_type": "code",
   "execution_count": 7,
   "id": "fc04ad0a",
   "metadata": {},
   "outputs": [
    {
     "data": {
      "text/plain": [
       "(7, 4)"
      ]
     },
     "execution_count": 7,
     "metadata": {},
     "output_type": "execute_result"
    }
   ],
   "source": [
    "df1.shape"
   ]
  },
  {
   "cell_type": "code",
   "execution_count": 8,
   "id": "783614a1",
   "metadata": {},
   "outputs": [
    {
     "ename": "BadRequest",
     "evalue": "400 Bad Request\nInvalid 'start_time':'2022-01-15T00:00Z'. 'start_time' must be on or after 2022-01-17T06:44Z\nInvalid 'end_time':'2022-01-16T00:00Z'. 'end_time' must be on or after 2022-01-17T06:44Z",
     "output_type": "error",
     "traceback": [
      "\u001b[1;31m---------------------------------------------------------------------------\u001b[0m",
      "\u001b[1;31mBadRequest\u001b[0m                                Traceback (most recent call last)",
      "\u001b[1;32m<ipython-input-8-536696c4bf01>\u001b[0m in \u001b[0;36m<module>\u001b[1;34m\u001b[0m\n\u001b[0;32m     15\u001b[0m \u001b[0mquery\u001b[0m \u001b[1;33m=\u001b[0m \u001b[1;34m'from:'\u001b[0m \u001b[1;33m+\u001b[0m \u001b[0mhandle\u001b[0m \u001b[1;33m+\u001b[0m \u001b[1;34m' -is:retweet'\u001b[0m\u001b[1;33m\u001b[0m\u001b[1;33m\u001b[0m\u001b[0m\n\u001b[0;32m     16\u001b[0m \u001b[1;33m\u001b[0m\u001b[0m\n\u001b[1;32m---> 17\u001b[1;33m tweets2 = client.search_recent_tweets(\n\u001b[0m\u001b[0;32m     18\u001b[0m             \u001b[0mquery\u001b[0m\u001b[1;33m=\u001b[0m\u001b[0mquery\u001b[0m\u001b[1;33m,\u001b[0m\u001b[1;33m\u001b[0m\u001b[1;33m\u001b[0m\u001b[0m\n\u001b[0;32m     19\u001b[0m             \u001b[0mtweet_fields\u001b[0m\u001b[1;33m=\u001b[0m\u001b[1;33m[\u001b[0m\u001b[1;34m'context_annotations'\u001b[0m\u001b[1;33m,\u001b[0m \u001b[1;34m'created_at'\u001b[0m\u001b[1;33m]\u001b[0m\u001b[1;33m,\u001b[0m\u001b[1;33m\u001b[0m\u001b[1;33m\u001b[0m\u001b[0m\n",
      "\u001b[1;32m~\\anaconda3\\lib\\site-packages\\tweepy\\client.py\u001b[0m in \u001b[0;36msearch_recent_tweets\u001b[1;34m(self, query, user_auth, **params)\u001b[0m\n\u001b[0;32m    789\u001b[0m         \"\"\"\n\u001b[0;32m    790\u001b[0m         \u001b[0mparams\u001b[0m\u001b[1;33m[\u001b[0m\u001b[1;34m\"query\"\u001b[0m\u001b[1;33m]\u001b[0m \u001b[1;33m=\u001b[0m \u001b[0mquery\u001b[0m\u001b[1;33m\u001b[0m\u001b[1;33m\u001b[0m\u001b[0m\n\u001b[1;32m--> 791\u001b[1;33m         return self._make_request(\n\u001b[0m\u001b[0;32m    792\u001b[0m             \u001b[1;34m\"GET\"\u001b[0m\u001b[1;33m,\u001b[0m \u001b[1;34m\"/2/tweets/search/recent\"\u001b[0m\u001b[1;33m,\u001b[0m \u001b[0mparams\u001b[0m\u001b[1;33m=\u001b[0m\u001b[0mparams\u001b[0m\u001b[1;33m,\u001b[0m\u001b[1;33m\u001b[0m\u001b[1;33m\u001b[0m\u001b[0m\n\u001b[0;32m    793\u001b[0m             endpoint_parameters=(\n",
      "\u001b[1;32m~\\anaconda3\\lib\\site-packages\\tweepy\\client.py\u001b[0m in \u001b[0;36m_make_request\u001b[1;34m(self, method, route, params, endpoint_parameters, json, data_type, user_auth)\u001b[0m\n\u001b[0;32m    164\u001b[0m                 \u001b[0mlog\u001b[0m\u001b[1;33m.\u001b[0m\u001b[0mwarn\u001b[0m\u001b[1;33m(\u001b[0m\u001b[1;34mf\"Unexpected parameter: {param_name}\"\u001b[0m\u001b[1;33m)\u001b[0m\u001b[1;33m\u001b[0m\u001b[1;33m\u001b[0m\u001b[0m\n\u001b[0;32m    165\u001b[0m \u001b[1;33m\u001b[0m\u001b[0m\n\u001b[1;32m--> 166\u001b[1;33m         response = self.request(method, route, params=request_params,\n\u001b[0m\u001b[0;32m    167\u001b[0m                                 json=json, user_auth=user_auth)\n\u001b[0;32m    168\u001b[0m \u001b[1;33m\u001b[0m\u001b[0m\n",
      "\u001b[1;32m~\\anaconda3\\lib\\site-packages\\tweepy\\client.py\u001b[0m in \u001b[0;36mrequest\u001b[1;34m(self, method, route, params, json, user_auth)\u001b[0m\n\u001b[0;32m    118\u001b[0m \u001b[1;33m\u001b[0m\u001b[0m\n\u001b[0;32m    119\u001b[0m             \u001b[1;32mif\u001b[0m \u001b[0mresponse\u001b[0m\u001b[1;33m.\u001b[0m\u001b[0mstatus_code\u001b[0m \u001b[1;33m==\u001b[0m \u001b[1;36m400\u001b[0m\u001b[1;33m:\u001b[0m\u001b[1;33m\u001b[0m\u001b[1;33m\u001b[0m\u001b[0m\n\u001b[1;32m--> 120\u001b[1;33m                 \u001b[1;32mraise\u001b[0m \u001b[0mBadRequest\u001b[0m\u001b[1;33m(\u001b[0m\u001b[0mresponse\u001b[0m\u001b[1;33m)\u001b[0m\u001b[1;33m\u001b[0m\u001b[1;33m\u001b[0m\u001b[0m\n\u001b[0m\u001b[0;32m    121\u001b[0m             \u001b[1;32mif\u001b[0m \u001b[0mresponse\u001b[0m\u001b[1;33m.\u001b[0m\u001b[0mstatus_code\u001b[0m \u001b[1;33m==\u001b[0m \u001b[1;36m401\u001b[0m\u001b[1;33m:\u001b[0m\u001b[1;33m\u001b[0m\u001b[1;33m\u001b[0m\u001b[0m\n\u001b[0;32m    122\u001b[0m                 \u001b[1;32mraise\u001b[0m \u001b[0mUnauthorized\u001b[0m\u001b[1;33m(\u001b[0m\u001b[0mresponse\u001b[0m\u001b[1;33m)\u001b[0m\u001b[1;33m\u001b[0m\u001b[1;33m\u001b[0m\u001b[0m\n",
      "\u001b[1;31mBadRequest\u001b[0m: 400 Bad Request\nInvalid 'start_time':'2022-01-15T00:00Z'. 'start_time' must be on or after 2022-01-17T06:44Z\nInvalid 'end_time':'2022-01-16T00:00Z'. 'end_time' must be on or after 2022-01-17T06:44Z"
     ]
    }
   ],
   "source": [
    "'''\n",
    "If you want to get Tweets for a specific time-period, you can specify the time-period\n",
    "using the start_time and end_time parameters, as shown in the example below:\n",
    "'''\n",
    "\n",
    "# Replace with time period of your choice\n",
    "start_time = '2022-01-15T00:00:00Z'\n",
    "\n",
    "# Replace with time period of your choice\n",
    "end_time = '2022-01-16T00:00:00Z'\n",
    "\n",
    "\n",
    "# Replace with your own search query\n",
    "handle = 'KimKardashian'\n",
    "query = 'from:' + handle + ' -is:retweet'\n",
    "\n",
    "tweets2 = client.search_recent_tweets(\n",
    "            query=query,\n",
    "            tweet_fields=['context_annotations', 'created_at'],\n",
    "            start_time=start_time,\n",
    "            end_time=end_time,\n",
    "            max_results=100)\n",
    "\n",
    "'''\n",
    "Convert to pandas Dataframe\n",
    "'''\n",
    "\n",
    "tweets2.json()"
   ]
  },
  {
   "cell_type": "code",
   "execution_count": null,
   "id": "c154e35a",
   "metadata": {},
   "outputs": [],
   "source": [
    "'''\n",
    "Writing Tweets to a text file\n",
    "\n",
    "This example shows how you can write the Tweet IDs for each Tweet obtained \n",
    "for a search result, to a text file.\n",
    "\n",
    "Make sure to replace the file_name with the a name of your chosing.\n",
    "\n",
    "If you wish to write other fields to the text file, make sure to adjust the script below accordingly.\n",
    "'''\n",
    "\n",
    "file_name = 'tweets.txt'\n",
    "\n",
    "df1.to_csv(file_name, index=False, encoding='utf-8')\n",
    "\n",
    "# If you want a different delimiter, say, tab or '\\t'\n",
    "# You can do:\n",
    "#    df2.to_csv(file_name, index=False, encoding='utf-8', sep='\\t')"
   ]
  },
  {
   "cell_type": "code",
   "execution_count": null,
   "id": "7a91e6b9",
   "metadata": {},
   "outputs": [],
   "source": []
  }
 ],
 "metadata": {
  "kernelspec": {
   "display_name": "Python 3",
   "language": "python",
   "name": "python3"
  },
  "language_info": {
   "codemirror_mode": {
    "name": "ipython",
    "version": 3
   },
   "file_extension": ".py",
   "mimetype": "text/x-python",
   "name": "python",
   "nbconvert_exporter": "python",
   "pygments_lexer": "ipython3",
   "version": "3.8.8"
  }
 },
 "nbformat": 4,
 "nbformat_minor": 5
}
