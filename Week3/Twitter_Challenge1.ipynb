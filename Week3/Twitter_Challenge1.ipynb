{
 "cells": [
  {
   "cell_type": "markdown",
   "id": "8cbc4740",
   "metadata": {},
   "source": [
    "# Twitter Challenge 1\n",
    "\n",
    "\n",
    "## Recall that you were asked to retrieve ~ 10K tweets last week.\n",
    "\n",
    "## Do the following:\n",
    "\n",
    "1. Use any Python package(s) of your choice\n",
    "2. Perform text pre-processing\n",
    "3. Generate a word cloud\n",
    "4. Post the word cloud (image) as a Tweet (using your own Twitter account).\n",
    "\n",
    "### Briefly describe: what is the topic? what is the data period?\n",
    "\n",
    "- The tweets that I have actually retrieve are #SMArigged. SMA stands for the Seoul Music Awards, a major South Korean music awards show presented by the newspaper Sports Seoul. The award winners are selected based on a combination of criteria, including music sales, popular votes, and expert judges' opinions. The data period for collection was 24th January to 30th January. At a certain point the hashtag #SMArigged was trending in Singapore and when I skimmed through, there was alot of controvery with regards to fans questioning the judgement criteria when presenting awards.\n",
    "### Include #is434 #smu #scis hashtags in your tweet."
   ]
  },
  {
   "cell_type": "code",
   "execution_count": 3,
   "id": "3fe493e7",
   "metadata": {},
   "outputs": [],
   "source": [
    "import pandas as pd\n",
    "import warnings \n",
    "warnings.filterwarnings('ignore')\n",
    "\n",
    "import nltk\n",
    "# nltk.download('stopwords')\n",
    "# nltk.download('wordnet')\n",
    "# nltk.download('punkt')\n",
    "from nltk.corpus import stopwords\n",
    "from nltk.tokenize import word_tokenize\n",
    "from nltk.stem import PorterStemmer\n",
    "from nltk.stem import WordNetLemmatizer\n",
    "import string\n",
    "from wordcloud import WordCloud, STOPWORDS"
   ]
  },
  {
   "cell_type": "code",
   "execution_count": 2,
   "id": "f08d0505",
   "metadata": {},
   "outputs": [
    {
     "name": "stdout",
     "output_type": "stream",
     "text": [
      "<class 'pandas.core.frame.DataFrame'>\n",
      "RangeIndex: 9127 entries, 0 to 9126\n",
      "Data columns (total 4 columns):\n",
      " #   Column    Non-Null Count  Dtype  \n",
      "---  ------    --------------  -----  \n",
      " 0   Datetime  9127 non-null   object \n",
      " 1   Tweet Id  9127 non-null   float64\n",
      " 2   Text      9127 non-null   object \n",
      " 3   Username  9127 non-null   object \n",
      "dtypes: float64(1), object(3)\n",
      "memory usage: 285.3+ KB\n",
      "None\n"
     ]
    },
    {
     "data": {
      "text/html": [
       "<div>\n",
       "<style scoped>\n",
       "    .dataframe tbody tr th:only-of-type {\n",
       "        vertical-align: middle;\n",
       "    }\n",
       "\n",
       "    .dataframe tbody tr th {\n",
       "        vertical-align: top;\n",
       "    }\n",
       "\n",
       "    .dataframe thead th {\n",
       "        text-align: right;\n",
       "    }\n",
       "</style>\n",
       "<table border=\"1\" class=\"dataframe\">\n",
       "  <thead>\n",
       "    <tr style=\"text-align: right;\">\n",
       "      <th></th>\n",
       "      <th>Datetime</th>\n",
       "      <th>Tweet Id</th>\n",
       "      <th>Text</th>\n",
       "      <th>Username</th>\n",
       "    </tr>\n",
       "  </thead>\n",
       "  <tbody>\n",
       "    <tr>\n",
       "      <th>0</th>\n",
       "      <td>2022-01-24 06:56:31+00:00</td>\n",
       "      <td>1.490000e+18</td>\n",
       "      <td>SMA MAKES MAMA LOOK SO GOOD #SMArigged #SMA_Re...</td>\n",
       "      <td>mynyeongie</td>\n",
       "    </tr>\n",
       "    <tr>\n",
       "      <th>1</th>\n",
       "      <td>2022-01-24 06:56:07+00:00</td>\n",
       "      <td>1.490000e+18</td>\n",
       "      <td>Yall in #SMArigged can keep crying without dra...</td>\n",
       "      <td>dollsxngie</td>\n",
       "    </tr>\n",
       "    <tr>\n",
       "      <th>2</th>\n",
       "      <td>2022-01-24 06:50:55+00:00</td>\n",
       "      <td>1.490000e+18</td>\n",
       "      <td>#SMArigged https://t.co/RfhfvRZ4Ml</td>\n",
       "      <td>rayanamalik2</td>\n",
       "    </tr>\n",
       "    <tr>\n",
       "      <th>3</th>\n",
       "      <td>2022-01-24 06:45:27+00:00</td>\n",
       "      <td>1.490000e+18</td>\n",
       "      <td>En- deserves that 2 awards, but txt too. Those...</td>\n",
       "      <td>lilac_gum</td>\n",
       "    </tr>\n",
       "    <tr>\n",
       "      <th>4</th>\n",
       "      <td>2022-01-24 06:39:40+00:00</td>\n",
       "      <td>1.490000e+18</td>\n",
       "      <td>#SMArigged https://t.co/GW0erukELd</td>\n",
       "      <td>aratazaki</td>\n",
       "    </tr>\n",
       "  </tbody>\n",
       "</table>\n",
       "</div>"
      ],
      "text/plain": [
       "                    Datetime      Tweet Id  \\\n",
       "0  2022-01-24 06:56:31+00:00  1.490000e+18   \n",
       "1  2022-01-24 06:56:07+00:00  1.490000e+18   \n",
       "2  2022-01-24 06:50:55+00:00  1.490000e+18   \n",
       "3  2022-01-24 06:45:27+00:00  1.490000e+18   \n",
       "4  2022-01-24 06:39:40+00:00  1.490000e+18   \n",
       "\n",
       "                                                Text      Username  \n",
       "0  SMA MAKES MAMA LOOK SO GOOD #SMArigged #SMA_Re...    mynyeongie  \n",
       "1  Yall in #SMArigged can keep crying without dra...    dollsxngie  \n",
       "2                 #SMArigged https://t.co/RfhfvRZ4Ml  rayanamalik2  \n",
       "3  En- deserves that 2 awards, but txt too. Those...     lilac_gum  \n",
       "4                 #SMArigged https://t.co/GW0erukELd     aratazaki  "
      ]
     },
     "execution_count": 2,
     "metadata": {},
     "output_type": "execute_result"
    }
   ],
   "source": [
    "data = pd.read_csv('#SMArigged.csv')\n",
    "print(data.info())\n",
    "data.head()"
   ]
  },
  {
   "cell_type": "code",
   "execution_count": 7,
   "id": "dec43a27",
   "metadata": {},
   "outputs": [],
   "source": [
    "import re \n",
    "\n",
    "def preprocess(text):\n",
    "    remove_punctuations = ''.join([word for word in text if word not in string.punctuation and word not in ['“', '”', '’', '‘']])\n",
    "    lowercase = remove_punctuations.lower()\n",
    "    tokenized = word_tokenize(lowercase)\n",
    "    stopwords_removed = [word for word in tokenized if word not in STOPWORDS]\n",
    "    lemmatized = [WordNetLemmatizer().lemmatize(word) for word in stopwords_removed]\n",
    "    preprocessed_text = \" \".join(lemmatized)\n",
    "#     text = re.sub(\"smarigged\", \"\", text)\n",
    "    return preprocessed_text\n",
    "\n",
    "# Apply function to text column and create new column for use later with wordclouds\n",
    "data['cleaned_Text'] = data['Text'].apply(preprocess)"
   ]
  },
  {
   "cell_type": "code",
   "execution_count": 8,
   "id": "722bcc86",
   "metadata": {},
   "outputs": [
    {
     "data": {
      "text/html": [
       "<div>\n",
       "<style scoped>\n",
       "    .dataframe tbody tr th:only-of-type {\n",
       "        vertical-align: middle;\n",
       "    }\n",
       "\n",
       "    .dataframe tbody tr th {\n",
       "        vertical-align: top;\n",
       "    }\n",
       "\n",
       "    .dataframe thead th {\n",
       "        text-align: right;\n",
       "    }\n",
       "</style>\n",
       "<table border=\"1\" class=\"dataframe\">\n",
       "  <thead>\n",
       "    <tr style=\"text-align: right;\">\n",
       "      <th></th>\n",
       "      <th>Datetime</th>\n",
       "      <th>Tweet Id</th>\n",
       "      <th>Text</th>\n",
       "      <th>Username</th>\n",
       "      <th>cleaned_Text</th>\n",
       "    </tr>\n",
       "  </thead>\n",
       "  <tbody>\n",
       "    <tr>\n",
       "      <th>0</th>\n",
       "      <td>2022-01-24 06:56:31+00:00</td>\n",
       "      <td>1.490000e+18</td>\n",
       "      <td>SMA MAKES MAMA LOOK SO GOOD #SMArigged #SMA_Re...</td>\n",
       "      <td>mynyeongie</td>\n",
       "      <td>sma make mama look good smarigged smarespective</td>\n",
       "    </tr>\n",
       "    <tr>\n",
       "      <th>1</th>\n",
       "      <td>2022-01-24 06:56:07+00:00</td>\n",
       "      <td>1.490000e+18</td>\n",
       "      <td>Yall in #SMArigged can keep crying without dra...</td>\n",
       "      <td>dollsxngie</td>\n",
       "      <td>yall smarigged keep cry without dragging atz p...</td>\n",
       "    </tr>\n",
       "    <tr>\n",
       "      <th>2</th>\n",
       "      <td>2022-01-24 06:50:55+00:00</td>\n",
       "      <td>1.490000e+18</td>\n",
       "      <td>#SMArigged https://t.co/RfhfvRZ4Ml</td>\n",
       "      <td>rayanamalik2</td>\n",
       "      <td>smarigged httpstcorfhfvrz4ml</td>\n",
       "    </tr>\n",
       "    <tr>\n",
       "      <th>3</th>\n",
       "      <td>2022-01-24 06:45:27+00:00</td>\n",
       "      <td>1.490000e+18</td>\n",
       "      <td>En- deserves that 2 awards, but txt too. Those...</td>\n",
       "      <td>lilac_gum</td>\n",
       "      <td>en deserves 2 award txt say dirty thing idol t...</td>\n",
       "    </tr>\n",
       "    <tr>\n",
       "      <th>4</th>\n",
       "      <td>2022-01-24 06:39:40+00:00</td>\n",
       "      <td>1.490000e+18</td>\n",
       "      <td>#SMArigged https://t.co/GW0erukELd</td>\n",
       "      <td>aratazaki</td>\n",
       "      <td>smarigged httpstcogw0erukeld</td>\n",
       "    </tr>\n",
       "  </tbody>\n",
       "</table>\n",
       "</div>"
      ],
      "text/plain": [
       "                    Datetime      Tweet Id  \\\n",
       "0  2022-01-24 06:56:31+00:00  1.490000e+18   \n",
       "1  2022-01-24 06:56:07+00:00  1.490000e+18   \n",
       "2  2022-01-24 06:50:55+00:00  1.490000e+18   \n",
       "3  2022-01-24 06:45:27+00:00  1.490000e+18   \n",
       "4  2022-01-24 06:39:40+00:00  1.490000e+18   \n",
       "\n",
       "                                                Text      Username  \\\n",
       "0  SMA MAKES MAMA LOOK SO GOOD #SMArigged #SMA_Re...    mynyeongie   \n",
       "1  Yall in #SMArigged can keep crying without dra...    dollsxngie   \n",
       "2                 #SMArigged https://t.co/RfhfvRZ4Ml  rayanamalik2   \n",
       "3  En- deserves that 2 awards, but txt too. Those...     lilac_gum   \n",
       "4                 #SMArigged https://t.co/GW0erukELd     aratazaki   \n",
       "\n",
       "                                        cleaned_Text  \n",
       "0    sma make mama look good smarigged smarespective  \n",
       "1  yall smarigged keep cry without dragging atz p...  \n",
       "2                       smarigged httpstcorfhfvrz4ml  \n",
       "3  en deserves 2 award txt say dirty thing idol t...  \n",
       "4                       smarigged httpstcogw0erukeld  "
      ]
     },
     "execution_count": 8,
     "metadata": {},
     "output_type": "execute_result"
    }
   ],
   "source": [
    "data.head()"
   ]
  },
  {
   "cell_type": "markdown",
   "id": "743eb162",
   "metadata": {},
   "source": [
    "# Round 1 Cleaning"
   ]
  },
  {
   "cell_type": "code",
   "execution_count": 15,
   "id": "fec02091",
   "metadata": {},
   "outputs": [
    {
     "name": "stderr",
     "output_type": "stream",
     "text": [
      "[nltk_data] Downloading package stopwords to\n",
      "[nltk_data]     C:\\Users\\Darren\\AppData\\Roaming\\nltk_data...\n",
      "[nltk_data]   Package stopwords is already up-to-date!\n"
     ]
    },
    {
     "data": {
      "text/html": [
       "<div>\n",
       "<style scoped>\n",
       "    .dataframe tbody tr th:only-of-type {\n",
       "        vertical-align: middle;\n",
       "    }\n",
       "\n",
       "    .dataframe tbody tr th {\n",
       "        vertical-align: top;\n",
       "    }\n",
       "\n",
       "    .dataframe thead th {\n",
       "        text-align: right;\n",
       "    }\n",
       "</style>\n",
       "<table border=\"1\" class=\"dataframe\">\n",
       "  <thead>\n",
       "    <tr style=\"text-align: right;\">\n",
       "      <th></th>\n",
       "      <th>Text</th>\n",
       "    </tr>\n",
       "  </thead>\n",
       "  <tbody>\n",
       "    <tr>\n",
       "      <th>0</th>\n",
       "      <td>sma makes mama look good</td>\n",
       "    </tr>\n",
       "    <tr>\n",
       "      <th>1</th>\n",
       "      <td>yall keep crying without dragging atz proof lm...</td>\n",
       "    </tr>\n",
       "    <tr>\n",
       "      <th>2</th>\n",
       "      <td></td>\n",
       "    </tr>\n",
       "    <tr>\n",
       "      <th>3</th>\n",
       "      <td>en deserves awards txt say dirty things idols ...</td>\n",
       "    </tr>\n",
       "    <tr>\n",
       "      <th>4</th>\n",
       "      <td></td>\n",
       "    </tr>\n",
       "  </tbody>\n",
       "</table>\n",
       "</div>"
      ],
      "text/plain": [
       "                                                Text\n",
       "0                           sma makes mama look good\n",
       "1  yall keep crying without dragging atz proof lm...\n",
       "2                                                   \n",
       "3  en deserves awards txt say dirty things idols ...\n",
       "4                                                   "
      ]
     },
     "execution_count": 15,
     "metadata": {},
     "output_type": "execute_result"
    }
   ],
   "source": [
    "import re \n",
    "import string\n",
    "import nltk\n",
    "import numpy as np\n",
    "nltk.download('stopwords')\n",
    "\n",
    "from nltk.corpus import stopwords\n",
    "stop = stopwords.words('english')\n",
    "\n",
    "def clean_text_round1(text):\n",
    "    '''Make text lowercase, remove punctuation and remove words containing numbers.'''\n",
    "    EMOJI_PATTERN = re.compile(\n",
    "    \"([\"\n",
    "    \"\\U0001F1E0-\\U0001F1FF\"  # flags (iOS)\n",
    "    \"\\U0001F300-\\U0001F5FF\"  # symbols & pictographs\n",
    "    \"\\U0001F600-\\U0001F64F\"  # emoticons\n",
    "    \"\\U0001F680-\\U0001F6FF\"  # transport & map symbols\n",
    "    \"\\U0001F700-\\U0001F77F\"  # alchemical symbols\n",
    "    \"\\U0001F780-\\U0001F7FF\"  # Geometric Shapes Extended\n",
    "    \"\\U0001F800-\\U0001F8FF\"  # Supplemental Arrows-C\n",
    "    \"\\U0001F900-\\U0001F9FF\"  # Supplemental Symbols and Pictographs\n",
    "    \"\\U0001FA00-\\U0001FA6F\"  # Chess Symbols\n",
    "    \"\\U0001FA70-\\U0001FAFF\"  # Symbols and Pictographs Extended-A\n",
    "    \"\\U00002702-\\U000027B0\"  # Dingbats\n",
    "    \"])\"\n",
    "    ) \n",
    "    text = text.lower()\n",
    "    text = re.sub('#\\w*', '', text)\n",
    "    text = re.sub('@\\w*', '', text)    \n",
    "    text = re.sub('[%s]' % re.escape(string.punctuation), '', text)\n",
    "    text = re.sub('\\w*\\d\\w*', '', text)\n",
    "    text = re.sub(EMOJI_PATTERN, '', text)\n",
    "    text = re.sub('([^\\x00-\\x7F])+','',text)\n",
    "    text = ' '.join([word for word in text.split() if word not in (stop)])\n",
    "    return text\n",
    "\n",
    "# Let's take a look at the updated text\n",
    "df_clean = pd.DataFrame(data['Text'].apply(clean_text_round1))\n",
    "df_clean.head()"
   ]
  },
  {
   "cell_type": "code",
   "execution_count": 17,
   "id": "b89d37af",
   "metadata": {},
   "outputs": [
    {
     "data": {
      "text/html": [
       "<div>\n",
       "<style scoped>\n",
       "    .dataframe tbody tr th:only-of-type {\n",
       "        vertical-align: middle;\n",
       "    }\n",
       "\n",
       "    .dataframe tbody tr th {\n",
       "        vertical-align: top;\n",
       "    }\n",
       "\n",
       "    .dataframe thead th {\n",
       "        text-align: right;\n",
       "    }\n",
       "</style>\n",
       "<table border=\"1\" class=\"dataframe\">\n",
       "  <thead>\n",
       "    <tr style=\"text-align: right;\">\n",
       "      <th></th>\n",
       "      <th>Text</th>\n",
       "    </tr>\n",
       "  </thead>\n",
       "  <tbody>\n",
       "    <tr>\n",
       "      <th>0</th>\n",
       "      <td>sma makes mama look good</td>\n",
       "    </tr>\n",
       "    <tr>\n",
       "      <th>1</th>\n",
       "      <td>yall keep crying without dragging atz proof lm...</td>\n",
       "    </tr>\n",
       "    <tr>\n",
       "      <th>2</th>\n",
       "      <td>NaN</td>\n",
       "    </tr>\n",
       "    <tr>\n",
       "      <th>3</th>\n",
       "      <td>en deserves awards txt say dirty things idols ...</td>\n",
       "    </tr>\n",
       "    <tr>\n",
       "      <th>4</th>\n",
       "      <td>NaN</td>\n",
       "    </tr>\n",
       "  </tbody>\n",
       "</table>\n",
       "</div>"
      ],
      "text/plain": [
       "                                                Text\n",
       "0                           sma makes mama look good\n",
       "1  yall keep crying without dragging atz proof lm...\n",
       "2                                                NaN\n",
       "3  en deserves awards txt say dirty things idols ...\n",
       "4                                                NaN"
      ]
     },
     "execution_count": 17,
     "metadata": {},
     "output_type": "execute_result"
    }
   ],
   "source": [
    "import numpy as np\n",
    "df_clean['Text'].replace('', np.nan, inplace = True)\n",
    "df_clean.head()"
   ]
  },
  {
   "cell_type": "code",
   "execution_count": 19,
   "id": "22efff65",
   "metadata": {},
   "outputs": [],
   "source": [
    "df_clean.dropna(subset = ['Text'], inplace = True)"
   ]
  },
  {
   "cell_type": "code",
   "execution_count": 20,
   "id": "a07b06ec",
   "metadata": {},
   "outputs": [
    {
     "data": {
      "text/plain": [
       "(6742, 1)"
      ]
     },
     "execution_count": 20,
     "metadata": {},
     "output_type": "execute_result"
    }
   ],
   "source": [
    "df_clean.shape"
   ]
  },
  {
   "cell_type": "markdown",
   "id": "e9defc86",
   "metadata": {},
   "source": [
    "# Round 2"
   ]
  },
  {
   "cell_type": "code",
   "execution_count": 12,
   "id": "3680a5c0",
   "metadata": {},
   "outputs": [
    {
     "name": "stderr",
     "output_type": "stream",
     "text": [
      "[nltk_data] Downloading package stopwords to\n",
      "[nltk_data]     C:\\Users\\Darren\\AppData\\Roaming\\nltk_data...\n",
      "[nltk_data]   Package stopwords is already up-to-date!\n"
     ]
    },
    {
     "data": {
      "text/plain": [
       "True"
      ]
     },
     "execution_count": 12,
     "metadata": {},
     "output_type": "execute_result"
    }
   ],
   "source": [
    "import nltk\n",
    "nltk.download('stopwords')"
   ]
  },
  {
   "cell_type": "code",
   "execution_count": 13,
   "id": "39e9de01",
   "metadata": {},
   "outputs": [],
   "source": [
    "from nltk.corpus import stopwords\n",
    "stop = stopwords.words('english')\n",
    "\n",
    "# Exclude stopwords with Python's list comprehension and pandas.DataFrame.apply.\n",
    "def clean_text_round2(text):\n",
    "    return ' '.join([word for word in text.split() if word not in (stop)])"
   ]
  },
  {
   "cell_type": "code",
   "execution_count": 21,
   "id": "4bc1d22e",
   "metadata": {},
   "outputs": [
    {
     "data": {
      "text/html": [
       "<div>\n",
       "<style scoped>\n",
       "    .dataframe tbody tr th:only-of-type {\n",
       "        vertical-align: middle;\n",
       "    }\n",
       "\n",
       "    .dataframe tbody tr th {\n",
       "        vertical-align: top;\n",
       "    }\n",
       "\n",
       "    .dataframe thead th {\n",
       "        text-align: right;\n",
       "    }\n",
       "</style>\n",
       "<table border=\"1\" class=\"dataframe\">\n",
       "  <thead>\n",
       "    <tr style=\"text-align: right;\">\n",
       "      <th></th>\n",
       "      <th>Text</th>\n",
       "    </tr>\n",
       "  </thead>\n",
       "  <tbody>\n",
       "    <tr>\n",
       "      <th>0</th>\n",
       "      <td>sma makes mama look good</td>\n",
       "    </tr>\n",
       "    <tr>\n",
       "      <th>1</th>\n",
       "      <td>yall keep crying without dragging atz proof lm...</td>\n",
       "    </tr>\n",
       "    <tr>\n",
       "      <th>3</th>\n",
       "      <td>en deserves awards txt say dirty things idols ...</td>\n",
       "    </tr>\n",
       "    <tr>\n",
       "      <th>5</th>\n",
       "      <td>meant say voting app rigged like hell spent wh...</td>\n",
       "    </tr>\n",
       "    <tr>\n",
       "      <th>6</th>\n",
       "      <td>cant forgive stripping txt award</td>\n",
       "    </tr>\n",
       "  </tbody>\n",
       "</table>\n",
       "</div>"
      ],
      "text/plain": [
       "                                                Text\n",
       "0                           sma makes mama look good\n",
       "1  yall keep crying without dragging atz proof lm...\n",
       "3  en deserves awards txt say dirty things idols ...\n",
       "5  meant say voting app rigged like hell spent wh...\n",
       "6                   cant forgive stripping txt award"
      ]
     },
     "execution_count": 21,
     "metadata": {},
     "output_type": "execute_result"
    }
   ],
   "source": [
    "df_clean = pd.DataFrame(df_clean['Text'].apply(clean_text_round2))\n",
    "df_clean.head()"
   ]
  },
  {
   "cell_type": "markdown",
   "id": "08724ade",
   "metadata": {},
   "source": [
    "# Round 3"
   ]
  },
  {
   "cell_type": "code",
   "execution_count": 22,
   "id": "06074a34",
   "metadata": {},
   "outputs": [
    {
     "name": "stderr",
     "output_type": "stream",
     "text": [
      "[nltk_data] Downloading package wordnet to\n",
      "[nltk_data]     C:\\Users\\Darren\\AppData\\Roaming\\nltk_data...\n",
      "[nltk_data]   Package wordnet is already up-to-date!\n",
      "[nltk_data] Downloading package punkt to\n",
      "[nltk_data]     C:\\Users\\Darren\\AppData\\Roaming\\nltk_data...\n",
      "[nltk_data]   Package punkt is already up-to-date!\n"
     ]
    }
   ],
   "source": [
    "import nltk\n",
    "nltk.download('wordnet')\n",
    "nltk.download('punkt')\n",
    "\n",
    "from nltk.stem import WordNetLemmatizer \n",
    "wordnet_lemmatizer = WordNetLemmatizer()\n",
    "\n",
    "def clean_text_round3_lemmatize(text):\n",
    "    \n",
    "    tokenization = nltk.word_tokenize(text)\n",
    "    lemmtized_text = \" \".join([wordnet_lemmatizer.lemmatize(word) for word in tokenization])\n",
    "    return lemmtized_text"
   ]
  },
  {
   "cell_type": "code",
   "execution_count": 23,
   "id": "ac78afde",
   "metadata": {},
   "outputs": [
    {
     "data": {
      "text/html": [
       "<div>\n",
       "<style scoped>\n",
       "    .dataframe tbody tr th:only-of-type {\n",
       "        vertical-align: middle;\n",
       "    }\n",
       "\n",
       "    .dataframe tbody tr th {\n",
       "        vertical-align: top;\n",
       "    }\n",
       "\n",
       "    .dataframe thead th {\n",
       "        text-align: right;\n",
       "    }\n",
       "</style>\n",
       "<table border=\"1\" class=\"dataframe\">\n",
       "  <thead>\n",
       "    <tr style=\"text-align: right;\">\n",
       "      <th></th>\n",
       "      <th>Text</th>\n",
       "    </tr>\n",
       "  </thead>\n",
       "  <tbody>\n",
       "    <tr>\n",
       "      <th>9120</th>\n",
       "      <td>hi buddy go appstore google store leave one st...</td>\n",
       "    </tr>\n",
       "    <tr>\n",
       "      <th>9123</th>\n",
       "      <td>httpstcoihltdnswbx httpstconaqhuyoneb</td>\n",
       "    </tr>\n",
       "    <tr>\n",
       "      <th>9124</th>\n",
       "      <td>bahkan yg gk punya nilai digital tinggi aja bi...</td>\n",
       "    </tr>\n",
       "    <tr>\n",
       "      <th>9125</th>\n",
       "      <td>olo fukkkkk sma want refund money fair izone</td>\n",
       "    </tr>\n",
       "    <tr>\n",
       "      <th>9126</th>\n",
       "      <td>httpstcooorzpchotm</td>\n",
       "    </tr>\n",
       "  </tbody>\n",
       "</table>\n",
       "</div>"
      ],
      "text/plain": [
       "                                                   Text\n",
       "9120  hi buddy go appstore google store leave one st...\n",
       "9123              httpstcoihltdnswbx httpstconaqhuyoneb\n",
       "9124  bahkan yg gk punya nilai digital tinggi aja bi...\n",
       "9125       olo fukkkkk sma want refund money fair izone\n",
       "9126                                 httpstcooorzpchotm"
      ]
     },
     "execution_count": 23,
     "metadata": {},
     "output_type": "execute_result"
    }
   ],
   "source": [
    "df_clean = pd.DataFrame(df_clean['Text'].apply(clean_text_round3_lemmatize))\n",
    "df_clean.tail()"
   ]
  },
  {
   "cell_type": "markdown",
   "id": "0dae48a9",
   "metadata": {},
   "source": [
    "# WordCloud Generation"
   ]
  },
  {
   "cell_type": "code",
   "execution_count": 24,
   "id": "fc83043b",
   "metadata": {},
   "outputs": [],
   "source": [
    "from wordcloud import WordCloud, STOPWORDS\n",
    "import matplotlib.pyplot as plt"
   ]
  },
  {
   "cell_type": "code",
   "execution_count": 25,
   "id": "0171bc56",
   "metadata": {},
   "outputs": [],
   "source": [
    "text_joined = \" \".join(one_row for one_row in df_clean['Text'])"
   ]
  },
  {
   "cell_type": "code",
   "execution_count": 26,
   "id": "d3e37df6",
   "metadata": {},
   "outputs": [
    {
     "data": {
      "image/png": "[encoded data removed]",
      "text/plain": [
       "<Figure size 432x288 with 1 Axes>"
      ]
     },
     "metadata": {
      "needs_background": "light"
     },
     "output_type": "display_data"
    }
   ],
   "source": [
    "wordcloud = WordCloud(stopwords=STOPWORDS, background_color=\"white\", width=1500, height=800).generate(text_joined)\n",
    "\n",
    "# Display the generated image:\n",
    "plt.imshow(wordcloud, interpolation='bilinear')\n",
    "plt.axis(\"off\")\n",
    "plt.show()"
   ]
  },
  {
   "cell_type": "code",
   "execution_count": null,
   "id": "4c4e92bc",
   "metadata": {},
   "outputs": [],
   "source": []
  }
 ],
 "metadata": {
  "kernelspec": {
   "display_name": "Python 3 (ipykernel)",
   "language": "python",
   "name": "python3"
  },
  "language_info": {
   "codemirror_mode": {
    "name": "ipython",
    "version": 3
   },
   "file_extension": ".py",
   "mimetype": "text/x-python",
   "name": "python",
   "nbconvert_exporter": "python",
   "pygments_lexer": "ipython3",
   "version": "3.8.8"
  }
 },
 "nbformat": 4,
 "nbformat_minor": 5
}
